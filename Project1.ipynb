{
 "cells": [
  {
   "cell_type": "code",
   "execution_count": 1,
   "metadata": {},
   "outputs": [
    {
     "name": "stdout",
     "output_type": "stream",
     "text": [
      "Datasets created and saved as CSV files:\n",
      "- state_industry_unemployment.csv\n",
      "- demographic_unemployment_trends.csv\n",
      "- industry_recovery.csv\n"
     ]
    }
   ],
   "source": [
    "import pandas as pd\n",
    "\n",
    "# Dataset 1: Unemployment Rates by State and Industry (Monthly Data)\n",
    "state_industry_data = {\n",
    "    \"State\": [\"California\", \"Nevada\", \"Texas\", \"Florida\", \"New York\", \"Nebraska\"],\n",
    "    \"Industry\": [\n",
    "        \"Hospitality and Leisure\",\n",
    "        \"Hospitality and Leisure\",\n",
    "        \"Retail Trade\",\n",
    "        \"Retail Trade\",\n",
    "        \"Healthcare\",\n",
    "        \"Manufacturing\",\n",
    "    ],\n",
    "    \"Month\": [\"2020-04\", \"2020-04\", \"2020-04\", \"2020-04\", \"2020-04\", \"2020-04\"],\n",
    "    \"Unemployment_Rate\": [30.2, 33.5, 25.0, 22.0, 15.3, 12.1],\n",
    "}\n",
    "\n",
    "df_state_industry = pd.DataFrame(state_industry_data)\n",
    "\n",
    "# Dataset 2: Demographic Unemployment Trends\n",
    "demographic_data = {\n",
    "    \"Demographic_Group\": [\n",
    "        \"Age 16-24\",\n",
    "        \"Age 25-54\",\n",
    "        \"Age 55+\",\n",
    "        \"Women\",\n",
    "        \"Men\",\n",
    "        \"Black\",\n",
    "        \"Hispanic\",\n",
    "        \"White\",\n",
    "        \"High School or Less\",\n",
    "        \"Bachelor's Degree or Higher\",\n",
    "    ],\n",
    "    \"Unemployment_Rate_April_2020\": [27.4, 12.5, 10.3, 15.0, 13.2, 16.7, 18.9, 12.0, 20.5, 8.4],\n",
    "    \"Unemployment_Rate_December_2020\": [16.1, 7.8, 7.2, 8.9, 8.1, 9.9, 11.5, 7.3, 12.4, 5.6],\n",
    "}\n",
    "\n",
    "df_demographic = pd.DataFrame(demographic_data)\n",
    "\n",
    "# Dataset 3: Recovery by Industry (Quarterly Data)\n",
    "industry_recovery_data = {\n",
    "    \"Industry\": [\n",
    "        \"Hospitality and Leisure\",\n",
    "        \"Retail Trade\",\n",
    "        \"Manufacturing\",\n",
    "        \"Healthcare\",\n",
    "        \"Technology\",\n",
    "        \"Logistics\",\n",
    "    ],\n",
    "    \"Unemployment_Rate_Q2_2020\": [30.2, 25.0, 15.0, 12.0, 6.0, 8.0],\n",
    "    \"Unemployment_Rate_Q4_2020\": [20.1, 12.0, 8.5, 9.0, 5.0, 4.5],\n",
    "    \"Recovery_Percentage\": [33.4, 52.0, 43.3, 25.0, 16.7, 43.8],\n",
    "}\n",
    "\n",
    "df_industry_recovery = pd.DataFrame(industry_recovery_data)\n",
    "\n",
    "# Save datasets as CSV files for easy use in a Jupyter Notebook\n",
    "df_state_industry.to_csv(\"state_industry_unemployment.csv\", index=False)\n",
    "df_demographic.to_csv(\"demographic_unemployment_trends.csv\", index=False)\n",
    "df_industry_recovery.to_csv(\"industry_recovery.csv\", index=False)\n",
    "\n",
    "print(\"Datasets created and saved as CSV files:\")\n",
    "print(\"- state_industry_unemployment.csv\")\n",
    "print(\"- demographic_unemployment_trends.csv\")\n",
    "print(\"- industry_recovery.csv\")\n"
   ]
  }
 ],
 "metadata": {
  "kernelspec": {
   "display_name": "base",
   "language": "python",
   "name": "python3"
  },
  "language_info": {
   "codemirror_mode": {
    "name": "ipython",
    "version": 3
   },
   "file_extension": ".py",
   "mimetype": "text/x-python",
   "name": "python",
   "nbconvert_exporter": "python",
   "pygments_lexer": "ipython3",
   "version": "3.12.3"
  }
 },
 "nbformat": 4,
 "nbformat_minor": 2
}
